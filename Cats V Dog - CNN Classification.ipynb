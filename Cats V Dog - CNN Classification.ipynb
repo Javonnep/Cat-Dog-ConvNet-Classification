{
 "cells": [
  {
   "cell_type": "markdown",
   "metadata": {},
   "source": [
    "# Step 1: Imports"
   ]
  },
  {
   "cell_type": "code",
   "execution_count": 1,
   "metadata": {},
   "outputs": [],
   "source": [
    "import numpy as np\n",
    "import os\n",
    "import cv2\n",
    "import matplotlib.pyplot as plt\n",
    "import random\n",
    "import pickle\n",
    "from keras.models import Sequential\n",
    "from keras.layers import Conv2D, MaxPooling2D, Dense, Flatten\n",
    "import cv2\n",
    "import keras\n",
    "import sys\n",
    "import numpy\n",
    "import tensorflow as tf\n",
    "%matplotlib inline"
   ]
  },
  {
   "cell_type": "code",
   "execution_count": 2,
   "metadata": {},
   "outputs": [],
   "source": [
    "# Here we convert images into pixel arrays and we label them\n",
    "\n",
    "# DIRECTORY = r'C:\\Users\\Javonne\\Downloads\\dogscats\\train'\n",
    "DIRECTORY = r'dogscats/train'\n",
    "\n",
    "CATEGORIES = ['cats', 'dogs']\n",
    "\n",
    "data = []\n",
    "\n",
    "for category in CATEGORIES:\n",
    "    path = os.path.join(DIRECTORY, category)\n",
    "    for img in os.listdir(path):\n",
    "        img_path = os.path.join(path, img)\n",
    "        label = CATEGORIES.index(category)\n",
    "        arr = cv2.imread(img_path, cv2.IMREAD_GRAYSCALE)\n",
    "        new_arr = cv2.resize(arr, (60, 60))\n",
    "        data.append([new_arr, label])"
   ]
  },
  {
   "cell_type": "code",
   "execution_count": 3,
   "metadata": {
    "scrolled": true
   },
   "outputs": [
    {
     "data": {
      "text/plain": [
       "[array([[ 38,  37,  42, ..., 186, 194, 197],\n",
       "        [ 39,  42,  45, ..., 194, 196, 212],\n",
       "        [ 41,  38,  49, ..., 205, 209, 211],\n",
       "        ...,\n",
       "        [ 32,  28,  27, ...,  38,  39,  41],\n",
       "        [ 45,  48,  40, ...,  36,  39,  41],\n",
       "        [ 33,  54,  43, ...,  37,  38,  40]], dtype=uint8),\n",
       " 1]"
      ]
     },
     "execution_count": 3,
     "metadata": {},
     "output_type": "execute_result"
    }
   ],
   "source": [
    "data[22000]"
   ]
  },
  {
   "cell_type": "code",
   "execution_count": 4,
   "metadata": {},
   "outputs": [],
   "source": [
    "\n",
    "# Data represents our dataset filled with images of both cats on dogs. Data[a] will return the \n",
    "# specific pixel array for the image indexed at position a within the array as well as the label of \n",
    "# the. Whereas data[a][0] and data[a][1] will return the pixel array and the population member \n",
    "# respectively\n",
    "\n",
    "#IIn the following \n",
    "# cell we use the random library to shuffle the data to mix the cats and dogs randomly. We do this \n",
    "# so our CNN gets used to identifying both cats and dogs while it trains and we will therfore avoid \n",
    "# initial overfitting to only recognise one of the two\n",
    "\n",
    "random.shuffle(data)"
   ]
  },
  {
   "cell_type": "code",
   "execution_count": 5,
   "metadata": {},
   "outputs": [],
   "source": [
    "# features(the pixel array) and label(the catdog id of the image) are set to two separate arrays,\n",
    "# x and y.\n",
    "\n",
    "X = []\n",
    "y = []\n",
    "\n",
    "for features, label in data:\n",
    "    X.append(features)\n",
    "    y.append(label)\n",
    "\n",
    "# X = np.array(X)\n",
    "X = tf.cast(X, tf.float32)\n",
    "X = np.array(X)\n",
    "\n",
    "y = np.array(y)"
   ]
  },
  {
   "cell_type": "code",
   "execution_count": 6,
   "metadata": {},
   "outputs": [
    {
     "data": {
      "text/plain": [
       "array([[231., 232., 230., ...,  44.,  53.,  52.],\n",
       "       [230., 232., 231., ..., 131., 109.,  46.],\n",
       "       [229., 232., 231., ...,  70., 152.,  76.],\n",
       "       ...,\n",
       "       [162., 175., 154., ..., 131.,  98., 114.],\n",
       "       [162., 140., 121., ..., 123., 107., 111.],\n",
       "       [127., 131., 199., ..., 115.,  89., 128.]], dtype=float32)"
      ]
     },
     "execution_count": 6,
     "metadata": {},
     "output_type": "execute_result"
    }
   ],
   "source": [
    "X[1]\n"
   ]
  },
  {
   "cell_type": "code",
   "execution_count": 7,
   "metadata": {},
   "outputs": [],
   "source": [
    "# X represents the pixel array for an image in our dataset. The reshape works as follows:\n",
    "\n",
    "# .reshape() will reshape our data in the format 60x60 rowsXcollumn\n",
    "\n",
    "X = X.reshape(-1, 60, 60, 1)"
   ]
  },
  {
   "cell_type": "markdown",
   "metadata": {},
   "source": [
    "We create the structure of the CNN"
   ]
  },
  {
   "cell_type": "code",
   "execution_count": 8,
   "metadata": {},
   "outputs": [],
   "source": [
    "# We create the structure of the CNN\n",
    "\n",
    "model = Sequential()\n",
    "\n",
    "model.add(Conv2D(64, (3,3), activation = 'relu'))\n",
    "model.add(MaxPooling2D((2,2)))\n",
    "\n",
    "model.add(Conv2D(64, (3,3), activation = 'relu'))\n",
    "model.add(MaxPooling2D((2,2)))\n",
    "\n",
    "model.add(Flatten())\n",
    "\n",
    "model.add(Dense(128, input_shape = X.shape[1:], activation = 'relu'))\n",
    "\n",
    "model.add(Dense(2, activation = 'softmax'))"
   ]
  },
  {
   "cell_type": "markdown",
   "metadata": {},
   "source": [
    "We set the Optimise and loss functions as well as declare accuracy as a metric that we wish to track"
   ]
  },
  {
   "cell_type": "code",
   "execution_count": 9,
   "metadata": {},
   "outputs": [],
   "source": [
    "# We set the Optimise and loss functions as well as declare accuracy as a metric that we wish to track\n",
    "\n",
    "model.compile(optimizer='adam',\n",
    "              loss='sparse_categorical_crossentropy',\n",
    "              metrics=['accuracy'])"
   ]
  },
  {
   "cell_type": "markdown",
   "metadata": {},
   "source": [
    "We now fit the model. Here is where the model actually \"learns\". We tune the weights and biases to maximize or minimize a function (In our case maximize accuracy via the adam function)"
   ]
  },
  {
   "cell_type": "code",
   "execution_count": 10,
   "metadata": {},
   "outputs": [
    {
     "name": "stdout",
     "output_type": "stream",
     "text": [
      "Epoch 1/10\n",
      "683/683 [==============================] - 52s 75ms/step - loss: 1.3629 - accuracy: 0.5354 - val_loss: 0.6734 - val_accuracy: 0.5748\n",
      "Epoch 2/10\n",
      "683/683 [==============================] - 52s 76ms/step - loss: 0.6704 - accuracy: 0.5773 - val_loss: 0.6712 - val_accuracy: 0.6096\n",
      "Epoch 3/10\n",
      "683/683 [==============================] - 52s 75ms/step - loss: 0.6486 - accuracy: 0.6162 - val_loss: 0.6717 - val_accuracy: 0.5748\n",
      "Epoch 4/10\n",
      "683/683 [==============================] - 52s 76ms/step - loss: 0.6278 - accuracy: 0.6439 - val_loss: 0.6506 - val_accuracy: 0.6383\n",
      "Epoch 5/10\n",
      "683/683 [==============================] - 51s 75ms/step - loss: 0.6345 - accuracy: 0.6177 - val_loss: 0.6927 - val_accuracy: 0.4965\n",
      "Epoch 6/10\n",
      "683/683 [==============================] - 50s 74ms/step - loss: 0.6898 - accuracy: 0.5086 - val_loss: 0.6853 - val_accuracy: 0.5330\n",
      "Epoch 7/10\n",
      "683/683 [==============================] - 51s 74ms/step - loss: 0.6860 - accuracy: 0.5224 - val_loss: 0.6799 - val_accuracy: 0.5452\n",
      "Epoch 8/10\n",
      "683/683 [==============================] - 52s 76ms/step - loss: 0.6826 - accuracy: 0.5296 - val_loss: 0.6798 - val_accuracy: 0.5435\n",
      "Epoch 9/10\n",
      "683/683 [==============================] - 52s 76ms/step - loss: 0.6638 - accuracy: 0.5723 - val_loss: 0.6755 - val_accuracy: 0.6130\n",
      "Epoch 10/10\n",
      "683/683 [==============================] - 53s 78ms/step - loss: 0.5876 - accuracy: 0.6785 - val_loss: 0.6455 - val_accuracy: 0.6348\n"
     ]
    },
    {
     "data": {
      "text/plain": [
       "<tensorflow.python.keras.callbacks.History at 0x7fa66c0bd100>"
      ]
     },
     "execution_count": 10,
     "metadata": {},
     "output_type": "execute_result"
    }
   ],
   "source": [
    "# We now fit the model. Here is where the model actually \"learns\". We tune the weights and biases to\n",
    "# maximize or minimize a function (In our case maximize accuracy via the adam function)\n",
    "\n",
    "# this qas used to quickly fit the model when I was tuning my loss/optimisation function to obtain \n",
    "# quick results. After deciding which to use, I fit properly using a validation split of .3 and 10 \n",
    "# epochs \n",
    "# model.fit(X, y, epochs=2, validation_split=0.9)\n",
    "\n",
    "model.fit(X, y, epochs=10, validation_split=0.05)"
   ]
  },
  {
   "cell_type": "markdown",
   "metadata": {},
   "source": [
    "We output a high level description of the CNN"
   ]
  },
  {
   "cell_type": "code",
   "execution_count": 11,
   "metadata": {},
   "outputs": [
    {
     "name": "stdout",
     "output_type": "stream",
     "text": [
      "Model: \"sequential\"\n",
      "_________________________________________________________________\n",
      "Layer (type)                 Output Shape              Param #   \n",
      "=================================================================\n",
      "conv2d (Conv2D)              (None, 58, 58, 64)        640       \n",
      "_________________________________________________________________\n",
      "max_pooling2d (MaxPooling2D) (None, 29, 29, 64)        0         \n",
      "_________________________________________________________________\n",
      "conv2d_1 (Conv2D)            (None, 27, 27, 64)        36928     \n",
      "_________________________________________________________________\n",
      "max_pooling2d_1 (MaxPooling2 (None, 13, 13, 64)        0         \n",
      "_________________________________________________________________\n",
      "flatten (Flatten)            (None, 10816)             0         \n",
      "_________________________________________________________________\n",
      "dense (Dense)                (None, 128)               1384576   \n",
      "_________________________________________________________________\n",
      "dense_1 (Dense)              (None, 2)                 258       \n",
      "=================================================================\n",
      "Total params: 1,422,402\n",
      "Trainable params: 1,422,402\n",
      "Non-trainable params: 0\n",
      "_________________________________________________________________\n"
     ]
    }
   ],
   "source": [
    "# We output a high level description of the CNN\n",
    "\n",
    "model.summary()"
   ]
  },
  {
   "cell_type": "code",
   "execution_count": 12,
   "metadata": {
    "scrolled": true
   },
   "outputs": [
    {
     "data": {
      "image/png": "[encoded data removed]",
      "text/plain": [
       "<Figure size 432x288 with 1 Axes>"
      ]
     },
     "metadata": {
      "needs_background": "light"
     },
     "output_type": "display_data"
    }
   ],
   "source": [
    "for categore in CATEGORIES:  # do dogs and cats\n",
    "    path = os.path.join(DIRECTORY,categore)  # create path to dogs and cats\n",
    "    \n",
    "    for img in os.listdir(path):  # iterate over each image per dogs and cats\n",
    "        img_array = cv2.imread(os.path.join(path,img), cv2.IMREAD_GRAYSCALE)  # convert to array\n",
    "        plt.imshow(img_array, cmap='gray')  # graph it\n",
    "        plt.title(\"fig 0\")\n",
    "        plt.show()  # display!\n",
    "        break  # we just want one for now so break\n",
    "       \n",
    "    break  #...and one more!"
   ]
  },
  {
   "cell_type": "code",
   "execution_count": 13,
   "metadata": {
    "scrolled": false
   },
   "outputs": [
    {
     "data": {
      "text/plain": [
       "array([[ 68,  65,  64, ..., 152, 151, 155],\n",
       "       [ 63,  66,  66, ..., 154, 150, 154],\n",
       "       [ 69,  66,  70, ..., 121, 137, 144],\n",
       "       ...,\n",
       "       [140, 141, 139, ...,  88,  97, 111],\n",
       "       [137, 142, 130, ...,  86,  93, 104],\n",
       "       [134, 118, 135, ...,  89,  92,  99]], dtype=uint8)"
      ]
     },
     "execution_count": 13,
     "metadata": {},
     "output_type": "execute_result"
    }
   ],
   "source": [
    "rs_img_array = cv2.resize(img_array, (100, 100))\n",
    "rs_img_array"
   ]
  },
  {
   "cell_type": "markdown",
   "metadata": {},
   "source": [
    "The following cells will demonstrate how we predict the output of values using our newly trained CNN"
   ]
  },
  {
   "cell_type": "code",
   "execution_count": 14,
   "metadata": {
    "scrolled": true
   },
   "outputs": [
    {
     "name": "stdout",
     "output_type": "stream",
     "text": [
      "Here is an array showing the prediction: [[0.43604448 0.5639556 ]] \n",
      "Below, each index is explained\n"
     ]
    }
   ],
   "source": [
    "prediction = model.predict(X[0:1])\n",
    "\n",
    "print(\"Here is an array showing the prediction: {} \".format(prediction))\n",
    "\n",
    "print(\"Below, each index is explained\")"
   ]
  },
  {
   "cell_type": "code",
   "execution_count": 15,
   "metadata": {},
   "outputs": [
    {
     "name": "stdout",
     "output_type": "stream",
     "text": [
      "Chance of cat: 0.43604448437690735\n",
      "chance of dog: 0.5639556050300598\n"
     ]
    }
   ],
   "source": [
    "print(\"Chance of cat: {}\".format(prediction[0][0])) \n",
    "print(\"chance of dog: {}\".format(prediction[0][1])) "
   ]
  },
  {
   "cell_type": "code",
   "execution_count": 16,
   "metadata": {},
   "outputs": [],
   "source": [
    "# DIRECTORYTEST = r'C:\\Users\\Javonne\\Dropbox\\zzboosdt\\code projects\\SummerMLProject\\chosenImage'\n",
    "# DIRECTORYTEST = r'ToBeClassified'\n",
    "# DIRECTORYTEST = r'dogscats/sample/train'\n",
    "DIRECTORYTEST = r'validation'\n",
    "\n",
    "\n",
    "\n",
    "# CATEGORIES = ['Cats', 'Dogs']\n",
    "CATEGORIES = ['cats', 'dogs']\n",
    "\n",
    "dataTEST = []\n",
    "\n",
    "for category in CATEGORIES:\n",
    "    path = os.path.join(DIRECTORYTEST, category)\n",
    "    for img in os.listdir(path):\n",
    "        img_path = os.path.join(path, img)\n",
    "        label = CATEGORIES.index(category)\n",
    "        arr = cv2.imread(img_path, cv2.IMREAD_GRAYSCALE)\n",
    "        new_arr = cv2.resize(arr, (60, 60))\n",
    "        dataTEST.append([new_arr, label])"
   ]
  },
  {
   "cell_type": "code",
   "execution_count": 17,
   "metadata": {},
   "outputs": [],
   "source": [
    "XTEST = []\n",
    "yTEST = []\n",
    "\n",
    "for features, label in dataTEST:\n",
    "    XTEST.append(features)\n",
    "    yTEST.append(label)\n",
    "\n",
    "XTEST = np.array(XTEST)\n",
    "yTEST = np.array(yTEST)"
   ]
  },
  {
   "cell_type": "code",
   "execution_count": 18,
   "metadata": {},
   "outputs": [],
   "source": [
    "XTEST = XTEST.reshape(-1, 60, 60, 1)\n",
    "predictionTEST = model.predict(XTEST)\n",
    "predictionTESTguess = predictionTEST.argmax(1)"
   ]
  },
  {
   "cell_type": "code",
   "execution_count": 19,
   "metadata": {},
   "outputs": [],
   "source": [
    "# functions to predict the classification and its certainty \n",
    "\n",
    "def certainty(figNumber):\n",
    "    predictionTEST[figNumber].sort\n",
    "    return max(predictionTEST[figNumber])    \n",
    "\n",
    "def predictions():\n",
    "    for i in range(0, len(predictionTESTguess)):\n",
    "        if predictionTESTguess[i] == 0:\n",
    "            print(\"fig {} is a cat, certainty of {:.6} out of 1\".format(i+1, certainty(i)))\n",
    "        if predictionTESTguess[i] == 1:\n",
    "            print(\"fig {} is a dog, certainty of {:.6} out of 1\".format(i+1, certainty(i)))    "
   ]
  },
  {
   "cell_type": "code",
   "execution_count": 20,
   "metadata": {},
   "outputs": [
    {
     "data": {
      "text/plain": [
       "array([0.49211022, 0.5078898 ], dtype=float32)"
      ]
     },
     "execution_count": 20,
     "metadata": {},
     "output_type": "execute_result"
    }
   ],
   "source": [
    "predictionTEST[0]"
   ]
  },
  {
   "cell_type": "code",
   "execution_count": 21,
   "metadata": {},
   "outputs": [
    {
     "data": {
      "text/plain": [
       "1"
      ]
     },
     "execution_count": 21,
     "metadata": {},
     "output_type": "execute_result"
    }
   ],
   "source": [
    "predictionTESTguess[0]"
   ]
  },
  {
   "cell_type": "code",
   "execution_count": 28,
   "metadata": {},
   "outputs": [],
   "source": [
    "\n",
    "def showCustomValidationImages():\n",
    "    i=0\n",
    "    correct=0\n",
    "    false=0\n",
    "    for category in CATEGORIES:  # do dogs and cats\n",
    "        path = os.path.join(DIRECTORYTEST,category)  # create path to dogs and cats\n",
    "\n",
    "        for img in os.listdir(path):  # iterate over each image per dogs and cats\n",
    "            \n",
    "            # the next block of code is responsible for showing the custom\n",
    "            # validation images. It will be commented out to reduce \n",
    "            # file size   \n",
    "            \n",
    "#             img_array = cv2.imread(os.path.join(path,img), cv2.IMREAD_GRAYSCALE)  # convert to array\n",
    "#             plt.imshow(img_array, cmap='gray')  # graph it\n",
    "#             i+=1\n",
    "#             plt.title(\"fig {} is a {}\".format(i, category))        \n",
    "#             plt.show()  # display!\n",
    "            \n",
    "            if yTEST[i-1] == 0 and predictionTESTguess[i-1] == 0:\n",
    "                correct+=1\n",
    "            if yTEST[i-1] == 1 and predictionTESTguess[i-1] == 1:\n",
    "                correct+=1\n",
    "            if yTEST[i-1] == 0 and predictionTESTguess[i-1] == 1:\n",
    "                false+=1\n",
    "            if yTEST[i-1] == 1 and predictionTESTguess[i-1] == 0:\n",
    "                false+=1\n",
    "        \n",
    "#         break  # we just want one for now so break\n",
    "\n",
    "showCustomValidationImages()"
   ]
  },
  {
   "cell_type": "code",
   "execution_count": 26,
   "metadata": {},
   "outputs": [],
   "source": [
    "a = 8"
   ]
  },
  {
   "cell_type": "code",
   "execution_count": 27,
   "metadata": {},
   "outputs": [
    {
     "data": {
      "text/plain": [
       "8"
      ]
     },
     "execution_count": 27,
     "metadata": {},
     "output_type": "execute_result"
    }
   ],
   "source": [
    "a"
   ]
  },
  {
   "cell_type": "code",
   "execution_count": 29,
   "metadata": {},
   "outputs": [
    {
     "ename": "NameError",
     "evalue": "name 'correct' is not defined",
     "output_type": "error",
     "traceback": [
      "\u001b[0;31m---------------------------------------------------------------------------\u001b[0m",
      "\u001b[0;31mNameError\u001b[0m                                 Traceback (most recent call last)",
      "\u001b[0;32m<ipython-input-29-a1fc4d0d3cac>\u001b[0m in \u001b[0;36m<module>\u001b[0;34m\u001b[0m\n\u001b[1;32m      7\u001b[0m \u001b[0;34m\u001b[0m\u001b[0m\n\u001b[1;32m      8\u001b[0m \u001b[0;34m\u001b[0m\u001b[0m\n\u001b[0;32m----> 9\u001b[0;31m \u001b[0mactual\u001b[0m\u001b[0;34m(\u001b[0m\u001b[0;34m)\u001b[0m\u001b[0;34m\u001b[0m\u001b[0;34m\u001b[0m\u001b[0m\n\u001b[0m",
      "\u001b[0;32m<ipython-input-29-a1fc4d0d3cac>\u001b[0m in \u001b[0;36mactual\u001b[0;34m()\u001b[0m\n\u001b[1;32m      4\u001b[0m \u001b[0;31m#     print(false)\u001b[0m\u001b[0;34m\u001b[0m\u001b[0;34m\u001b[0m\u001b[0;34m\u001b[0m\u001b[0m\n\u001b[1;32m      5\u001b[0m \u001b[0;31m#     print(correct)\u001b[0m\u001b[0;34m\u001b[0m\u001b[0;34m\u001b[0m\u001b[0;34m\u001b[0m\u001b[0m\n\u001b[0;32m----> 6\u001b[0;31m     \u001b[0mprint\u001b[0m\u001b[0;34m(\u001b[0m\u001b[0;34m\"The accuracy on the  custom validation data is {}%\"\u001b[0m\u001b[0;34m.\u001b[0m\u001b[0mformat\u001b[0m\u001b[0;34m(\u001b[0m\u001b[0;34m(\u001b[0m\u001b[0mcorrect\u001b[0m \u001b[0;34m/\u001b[0m \u001b[0;34m(\u001b[0m\u001b[0mfalse\u001b[0m\u001b[0;34m+\u001b[0m\u001b[0mcorrect\u001b[0m\u001b[0;34m)\u001b[0m\u001b[0;34m)\u001b[0m \u001b[0;34m*\u001b[0m \u001b[0;36m100\u001b[0m\u001b[0;34m)\u001b[0m \u001b[0;34m)\u001b[0m\u001b[0;34m\u001b[0m\u001b[0;34m\u001b[0m\u001b[0m\n\u001b[0m\u001b[1;32m      7\u001b[0m \u001b[0;34m\u001b[0m\u001b[0m\n\u001b[1;32m      8\u001b[0m \u001b[0;34m\u001b[0m\u001b[0m\n",
      "\u001b[0;31mNameError\u001b[0m: name 'correct' is not defined"
     ]
    }
   ],
   "source": [
    "# \n",
    "\n",
    "def actual():\n",
    "#     print(false)\n",
    "#     print(correct)\n",
    "    print(\"The accuracy on the  custom validation data is {}%\".format((correct / (false+correct)) * 100) )\n",
    "\n",
    "\n",
    "actual()"
   ]
  },
  {
   "cell_type": "code",
   "execution_count": null,
   "metadata": {},
   "outputs": [],
   "source": [
    "actual()"
   ]
  },
  {
   "cell_type": "code",
   "execution_count": null,
   "metadata": {},
   "outputs": [],
   "source": [
    "# predictionTESTguess = predictionTEST.argmax(1)\n",
    "# predictionTESTguess\n",
    "# just outputting a text version of our predictions that can be compared with the actual images above\n",
    "\n",
    "# this function gives certainty predictions but will be commented to reduce file size \n",
    "# predictions()"
   ]
  }
 ],
 "metadata": {
  "kernelspec": {
   "display_name": "Python 3",
   "language": "python",
   "name": "python3"
  },
  "language_info": {
   "codemirror_mode": {
    "name": "ipython",
    "version": 3
   },
   "file_extension": ".py",
   "mimetype": "text/x-python",
   "name": "python",
   "nbconvert_exporter": "python",
   "pygments_lexer": "ipython3",
   "version": "3.8.3"
  }
 },
 "nbformat": 4,
 "nbformat_minor": 4
}
